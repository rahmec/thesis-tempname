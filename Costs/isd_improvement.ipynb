{
 "cells": [
  {
   "cell_type": "code",
   "execution_count": null,
   "id": "c82f792e-a1d3-4fb6-8657-4e15ba9d32ce",
   "metadata": {},
   "outputs": [],
   "source": []
  },
  {
   "cell_type": "code",
   "execution_count": null,
   "id": "e9cf0c79-879b-4293-977e-6c697bf2b29c",
   "metadata": {},
   "outputs": [],
   "source": []
  },
  {
   "cell_type": "code",
   "execution_count": 3,
   "id": "97b15dd2-b45c-4987-a6cb-32261ba7699e",
   "metadata": {},
   "outputs": [
    {
     "name": "stdout",
     "output_type": "stream",
     "text": [
      "[[6, 4], [6, 10], [6, 11], [6, 18], [6, 21], [6, 22], [11, 1], [11, 7], [11, 12], [11, 19], [11, 23], [11, 26], [10, 3], [10, 6], [10, 8], [10, 16], [10, 17], [10, 31]]\n"
     ]
    }
   ],
   "source": [
    "import random\n",
    "\n",
    "def generate_matrix(m, n, wr, wc):\n",
    "    H = Matrix(m,n)\n",
    "    total_ones_indices = [[] for _ in range(m)]\n",
    "    for i in range(n):\n",
    "        available_indices = [x for x in range(m)]\n",
    "        for _ in range(wc):\n",
    "            row = random.choice(available_indices)\n",
    "            H[row, i]=1\n",
    "            available_indices.remove(row)\n",
    "            total_ones_indices[row].append(i)\n",
    "    \n",
    "    underweighted_rows = []\n",
    "    overweighted_rows = []\n",
    "    for i in range(m):\n",
    "        #if len(total_ones_indices[i]) < 2:\n",
    "        #    underweighted_rows.append(i)\n",
    "        #    zero_indices = [r for r in range(n) if r not in total_ones_indices[i]]\n",
    "        #    for _ in range(2-len(total_ones_indices[i])):\n",
    "        #        col = random.choice(zero_indices)\n",
    "        #        zero_indices.remove(col)\n",
    "        #        H[i,col]=1\n",
    "        #        total_ones_indices[i].append(col)\n",
    "        if len(total_ones_indices[i]) < wr:\n",
    "            underweighted_rows.append(i)\n",
    "        elif len(total_ones_indices[i]) > wr:\n",
    "            overweighted_rows.append(i)\n",
    "\n",
    "    for ov_row in overweighted_rows:\n",
    "        for _ in range(len(total_ones_indices[ov_row])-wr):\n",
    "            found_flag = False\n",
    "            available_indices = total_ones_indices[ov_row]\n",
    "            while not found_flag:\n",
    "                col = random.choice(available_indices)\n",
    "                for un_row in underweighted_rows:\n",
    "                    if col not in total_ones_indices[un_row]:\n",
    "                        H[un_row, col] = 1\n",
    "                        H[ov_row, col] = 0\n",
    "                        total_ones_indices[un_row].append(col)\n",
    "                        total_ones_indices[ov_row].remove(col)\n",
    "                        if len(total_ones_indices[un_row]) == wr:\n",
    "                            underweighted_rows.remove(un_row)\n",
    "                        found_flag = True\n",
    "                        break\n",
    "                if col in available_indices:\n",
    "                    available_indices.remove(col)\n",
    "    return H\n",
    "                    \n",
    "# Parameters\n",
    "t=3\n",
    "z=\n",
    "n=32\n",
    "k=16\n",
    "r=n-k\n",
    "#l=  \n",
    "H = generate_matrix(r,n,6,3)\n",
    "\n",
    "# Select t random rows\n",
    "for i in range(t):\n",
    "    rows_index = sample(range(r), t)\n",
    "#print(\"Rows: \", rows)\n",
    "# Calculate sampled rows support\n",
    "max_sup_len = n\n",
    "row_supports = []\n",
    "for row_index in rows_index:\n",
    "    row = H.row(row_index)\n",
    "    row_support = [[row_index, i] for i in range(len(row)) if row[i] != 0]\n",
    "    row_supports += row_support\n",
    "print(row_supports)\n",
    "\n",
    "# Unite all supports\n",
    "    \n",
    "# Create the permutation sigma to move supports on the left\n",
    "# Select another permutation phi that fixes the first z rows (and columns?)\n",
    "# Perform PGE on the last n-(l-t) rows of H to produce I of size n-(k+l)\n",
    "# Split A in z/2 columns and perform meet-in-the-middle\n",
    "# Enumerate candidates for x2 and again meet-in-the-middle\n",
    "# Perform third equation multiplication and test for weight (if ok, add to Y')\n",
    "# Apply inverse permutations to obtain the codewords\n",
    "\n",
    "# We can estimate the cost of algorithm (see if it holds!)"
   ]
  },
  {
   "cell_type": "code",
   "execution_count": null,
   "id": "e0faa49a-4325-47f5-b29a-22f4a2700d42",
   "metadata": {},
   "outputs": [],
   "source": []
  },
  {
   "cell_type": "code",
   "execution_count": null,
   "id": "b4514ded-c198-4db4-9549-7e8f262f33e7",
   "metadata": {},
   "outputs": [],
   "source": []
  },
  {
   "cell_type": "code",
   "execution_count": null,
   "id": "93775b2a-a9ba-4d01-9761-28fdfc9f5e01",
   "metadata": {},
   "outputs": [],
   "source": []
  },
  {
   "cell_type": "code",
   "execution_count": null,
   "id": "2ed67436-395e-4e89-959c-ffc8b842a716",
   "metadata": {},
   "outputs": [],
   "source": []
  },
  {
   "cell_type": "code",
   "execution_count": null,
   "id": "2d6ceb3a-3a5c-4281-bd6e-c87d572f8227",
   "metadata": {},
   "outputs": [],
   "source": []
  }
 ],
 "metadata": {
  "kernelspec": {
   "display_name": "SageMath 10.3",
   "language": "sage",
   "name": "sagemath"
  },
  "language_info": {
   "codemirror_mode": {
    "name": "ipython",
    "version": 3
   },
   "file_extension": ".py",
   "mimetype": "text/x-python",
   "name": "python",
   "nbconvert_exporter": "python",
   "pygments_lexer": "ipython3",
   "version": "3.12.4"
  }
 },
 "nbformat": 4,
 "nbformat_minor": 5
}
