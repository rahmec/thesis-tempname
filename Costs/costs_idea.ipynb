{
 "cells": [
  {
   "cell_type": "code",
   "execution_count": 28,
   "id": "7b85ce68",
   "metadata": {},
   "outputs": [],
   "source": [
    "import matplotlib.pyplot as plt"
   ]
  },
  {
   "cell_type": "markdown",
   "id": "bcdb2411",
   "metadata": {},
   "source": [
    "# Compare classical Stern vs Stern Improved (Idea I)"
   ]
  },
  {
   "cell_type": "code",
   "execution_count": 13,
   "id": "ca5a3111",
   "metadata": {},
   "outputs": [],
   "source": [
    "def std_stern(n,k,w):\n",
    "    \n",
    "    min_cost = 10000000000000000000\n",
    "    for p in range(1,min(10, floor(w/2))):\n",
    "        for ell in range(1,min(10, n-k)):\n",
    "            if p > floor((k+ell)/2): #weight is too large\n",
    "                continue;\n",
    "                \n",
    "            L = N(log(binomial(round((k+ell)/2),p),2)) #list size\n",
    "            M = 2*L - ell #number of collisions\n",
    "            \n",
    "            pr_iter = log(binomial(round((k+ell)/2),p)^2*binomial(n-k-ell,w-2*p)/binomial(n,w),2) #pr iter is successful\n",
    "            \n",
    "            cost = max(L, M)-pr_iter\n",
    "            \n",
    "            if cost< min_cost:\n",
    "                min_cost = cost/n\n",
    "                \n",
    "    return min_cost"
   ]
  },
  {
   "cell_type": "markdown",
   "id": "16a61ed8",
   "metadata": {},
   "source": [
    "# Cost of our idea I\n",
    "\n",
    "We consider a $(u, v)$-regular LDPC code (column weight is $u$, row weight is $v$)\n",
    "For the number of columns in $\\mathbf A$, we consider the worst case (i.e., maximum number of columns)"
   ]
  },
  {
   "cell_type": "code",
   "execution_count": 36,
   "id": "73391d62",
   "metadata": {},
   "outputs": [],
   "source": [
    "def new_stern_1(n,k,w,u,v):\n",
    "    \n",
    "    min_cost = 10000000000000000000\n",
    "    \n",
    "    for p in range(1,min(10, floor(w/2))):\n",
    "        for ell in range(1,min(100, n-k)):\n",
    "            \n",
    "            k_prime = ell*v\n",
    "            if k_prime <k: #number of columns is not large enough\n",
    "                continue;\n",
    "            \n",
    "            if k_prime >n:\n",
    "                continue;\n",
    "                \n",
    "            if p > floor((k_prime)/2): #weight is too large\n",
    "                continue;\n",
    "                \n",
    "            L = N(log(binomial(round((k_prime)/2),p),2)) #list size\n",
    "            M = 2*L - ell #number of collisions\n",
    "            \n",
    "            pr_iter = N(log(binomial(round((k_prime)/2),p)^2*binomial(n-k_prime,w-2*p)/binomial(n,w),2)) #pr iter is successful\n",
    "            \n",
    "            cost = max(L, M)-pr_iter\n",
    "            \n",
    "            if cost<min_cost:\n",
    "                min_cost = cost/n\n",
    "              #  print(p, ell, L, M, pr_iter)\n",
    "    return min_cost"
   ]
  },
  {
   "cell_type": "markdown",
   "id": "d41cd1aa",
   "metadata": {},
   "source": [
    "# Now, we consider different code rates and compare new idea with classical version of Stern\n",
    "\n",
    "We select only the column weight (which we indicate as a ratio of the number of rows)\n",
    "The corresponding row weight is computed as\n",
    "$v = \\frac{u}{1-R}$"
   ]
  },
  {
   "cell_type": "code",
   "execution_count": 37,
   "id": "5f22ba77",
   "metadata": {},
   "outputs": [
    {
     "name": "stderr",
     "output_type": "stream",
     "text": [
      "/tmp/ipykernel_5115/1348900874.py:9: DeprecationWarning: the default rounding for rationals, currently `away`, will be changed to `even`.\n",
      "See https://github.com/sagemath/sage/issues/35473 for details.\n",
      "  L = N(log(binomial(round((k+ell)/Integer(2)),p),Integer(2))) #list size\n",
      "/tmp/ipykernel_5115/1348900874.py:12: DeprecationWarning: the default rounding for rationals, currently `away`, will be changed to `even`.\n",
      "See https://github.com/sagemath/sage/issues/35473 for details.\n",
      "  pr_iter = log(binomial(round((k+ell)/Integer(2)),p)**Integer(2)*binomial(n-k-ell,w-Integer(2)*p)/binomial(n,w),Integer(2)) #pr iter is successful\n",
      "/tmp/ipykernel_5115/4006551941.py:18: DeprecationWarning: the default rounding for rationals, currently `away`, will be changed to `even`.\n",
      "See https://github.com/sagemath/sage/issues/35473 for details.\n",
      "  L = N(log(binomial(round((k_prime)/Integer(2)),p),Integer(2))) #list size\n",
      "/tmp/ipykernel_5115/4006551941.py:21: DeprecationWarning: the default rounding for rationals, currently `away`, will be changed to `even`.\n",
      "See https://github.com/sagemath/sage/issues/35473 for details.\n",
      "  pr_iter = N(log(binomial(round((k_prime)/Integer(2)),p)**Integer(2)*binomial(n-k_prime,w-Integer(2)*p)/binomial(n,w),Integer(2))) #pr iter is successful\n"
     ]
    },
    {
     "name": "stdout",
     "output_type": "stream",
     "text": [
      "0.200000000000000 0.0949133224756165 0.0913858102470792\n",
      "0.250000000000000 0.106321742507905 0.104289764370781\n",
      "0.300000000000000 0.114556350358772 0.109099492683798\n",
      "0.350000000000000 0.120407307042236 0.116994049072901\n",
      "0.400000000000000 0.124687533561800 0.117638225921575\n",
      "0.450000000000000 0.126214177573701 0.122455183516676\n",
      "0.500000000000000 0.125087478354427 0.117763240098852\n",
      "0.550000000000000 0.122703744142056 0.118997190808176\n",
      "0.600000000000000 0.118134768145686 0.110588522752538\n",
      "0.650000000000000 0.111456833220898 0.107713842852257\n",
      "0.700000000000000 0.104603717465314 0.0968720548945701\n",
      "0.750000000000000 0.0940603213772507 0.0944869370658660\n",
      "0.800000000000000 0.0814511010329282 0.0735727795895165\n"
     ]
    }
   ],
   "source": [
    "def gv_bound(n,k):\n",
    "    \n",
    "    w = 1\n",
    "    num_syn = 2^(n-k)\n",
    "    while binomial(n,w)<num_syn:\n",
    "        w+=1\n",
    "        \n",
    "    return w\n",
    "\n",
    "\n",
    "u_ratio = 0.05 #%only a fraction 1/10 of the ones in each column is equal to 1\n",
    "n = 1000 #code length\n",
    "\n",
    "stern_vals = []\n",
    "our_vals = []\n",
    "\n",
    "for R_int in range(20,81,5):\n",
    "    \n",
    "    R = R_int/100\n",
    "    \n",
    "    #get code parameters\n",
    "    k = round(n*R)\n",
    "    u = round(u_ratio*n*(1-R))\n",
    "    v = round(u/(1-R))\n",
    "    \n",
    "    #get code min distance\n",
    "    w = gv_bound(n,k) \n",
    "    \n",
    "    #Cost of classical stern\n",
    "    cost = std_stern(n,k,w)\n",
    "    stern_vals.append([R, cost])\n",
    "    \n",
    "    if u<2:\n",
    "        continue;\n",
    "        \n",
    "    #Cost of classical stern\n",
    "    new_cost = new_stern_1(n,k,w,u,v)\n",
    "    our_vals.append([R, new_cost])\n",
    "    print(N(R), N(cost), N(new_cost))\n",
    "    "
   ]
  },
  {
   "cell_type": "code",
   "execution_count": 38,
   "id": "596dd281",
   "metadata": {},
   "outputs": [
    {
     "data": {
      "image/png": "[encoded data removed]",
      "text/plain": [
       "<Figure size 640x480 with 1 Axes>"
      ]
     },
     "metadata": {},
     "output_type": "display_data"
    }
   ],
   "source": [
    "x,y=zip(*stern_vals)\n",
    "plt.plot(x,y, c='blue',label='OLD')\n",
    "x,y=zip(*our_vals)\n",
    "plt.plot(x,y, c='orange',label='NEW')\n",
    "plt.legend()\n",
    "plt.grid(True)\n",
    "plt.show()"
   ]
  },
  {
   "cell_type": "code",
   "execution_count": null,
   "id": "976472c6",
   "metadata": {},
   "outputs": [],
   "source": []
  }
 ],
 "metadata": {
  "kernelspec": {
   "display_name": "SageMath 10.2",
   "language": "sage",
   "name": "sagemath"
  },
  "language_info": {
   "codemirror_mode": {
    "name": "ipython",
    "version": 3
   },
   "file_extension": ".py",
   "mimetype": "text/x-python",
   "name": "python",
   "nbconvert_exporter": "python",
   "pygments_lexer": "ipython3",
   "version": "3.11.6"
  }
 },
 "nbformat": 4,
 "nbformat_minor": 5
}
